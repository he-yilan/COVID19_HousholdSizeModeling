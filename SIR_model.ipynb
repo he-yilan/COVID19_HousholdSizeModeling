{
  "nbformat": 4,
  "nbformat_minor": 0,
  "metadata": {
    "colab": {
      "name": "SIR_model.ipynb",
      "provenance": [],
      "collapsed_sections": [],
      "include_colab_link": true
    },
    "kernelspec": {
      "name": "python3",
      "display_name": "Python 3"
    }
  },
  "cells": [
    {
      "cell_type": "markdown",
      "metadata": {
        "id": "view-in-github",
        "colab_type": "text"
      },
      "source": [
        "<a href=\"https://colab.research.google.com/github/he-yilan/COVID19_HousholdSizeModeling/blob/master/SIR_model.ipynb\" target=\"_parent\"><img src=\"https://colab.research.google.com/assets/colab-badge.svg\" alt=\"Open In Colab\"/></a>"
      ]
    },
    {
      "cell_type": "code",
      "metadata": {
        "id": "cUPFapW1XhAt",
        "colab_type": "code",
        "colab": {
          "base_uri": "https://localhost:8080/",
          "height": 340
        },
        "outputId": "df5e0d4e-071d-4f33-93b0-7940eb4a7e3f"
      },
      "source": [
        "from scipy.integrate import odeint\n",
        "import numpy as np\n",
        "import matplotlib.pyplot as plt\n",
        "%matplotlib inline \n",
        "!pip install mpld3\n",
        "import mpld3\n",
        "mpld3.enable_notebook()"
      ],
      "execution_count": null,
      "outputs": [
        {
          "output_type": "stream",
          "text": [
            "Collecting mpld3\n",
            "\u001b[?25l  Downloading https://files.pythonhosted.org/packages/66/31/89bd2afd21b920e3612996623e7b3aac14d741537aa77600ea5102a34be0/mpld3-0.5.1.tar.gz (1.0MB)\n",
            "\u001b[K     |████████████████████████████████| 1.0MB 2.7MB/s \n",
            "\u001b[?25hRequirement already satisfied: jinja2 in /usr/local/lib/python3.6/dist-packages (from mpld3) (2.11.2)\n",
            "Requirement already satisfied: matplotlib in /usr/local/lib/python3.6/dist-packages (from mpld3) (3.2.2)\n",
            "Requirement already satisfied: MarkupSafe>=0.23 in /usr/local/lib/python3.6/dist-packages (from jinja2->mpld3) (1.1.1)\n",
            "Requirement already satisfied: python-dateutil>=2.1 in /usr/local/lib/python3.6/dist-packages (from matplotlib->mpld3) (2.8.1)\n",
            "Requirement already satisfied: pyparsing!=2.0.4,!=2.1.2,!=2.1.6,>=2.0.1 in /usr/local/lib/python3.6/dist-packages (from matplotlib->mpld3) (2.4.7)\n",
            "Requirement already satisfied: cycler>=0.10 in /usr/local/lib/python3.6/dist-packages (from matplotlib->mpld3) (0.10.0)\n",
            "Requirement already satisfied: kiwisolver>=1.0.1 in /usr/local/lib/python3.6/dist-packages (from matplotlib->mpld3) (1.2.0)\n",
            "Requirement already satisfied: numpy>=1.11 in /usr/local/lib/python3.6/dist-packages (from matplotlib->mpld3) (1.18.5)\n",
            "Requirement already satisfied: six>=1.5 in /usr/local/lib/python3.6/dist-packages (from python-dateutil>=2.1->matplotlib->mpld3) (1.15.0)\n",
            "Building wheels for collected packages: mpld3\n",
            "  Building wheel for mpld3 (setup.py) ... \u001b[?25l\u001b[?25hdone\n",
            "  Created wheel for mpld3: filename=mpld3-0.5.1-cp36-none-any.whl size=364064 sha256=f07c2b0e5aa6086d4b046ebc5f3537085084cd685f613aa382910a3b907dd609\n",
            "  Stored in directory: /root/.cache/pip/wheels/38/68/06/d119af6c3f9a2d1e123c1f72d276576b457131b3a7bf94e402\n",
            "Successfully built mpld3\n",
            "Installing collected packages: mpld3\n",
            "Successfully installed mpld3-0.5.1\n"
          ],
          "name": "stdout"
        }
      ]
    },
    {
      "cell_type": "code",
      "metadata": {
        "id": "vOpPgwCIVnOm",
        "colab_type": "code",
        "colab": {}
      },
      "source": [
        "def deriv(y, t, N, beta, gamma):\n",
        "    S, I, R = y\n",
        "    dSdt = -beta * S * I / N\n",
        "    dIdt = beta * S * I / N - gamma * I\n",
        "    dRdt = gamma * I\n",
        "    return dSdt, dIdt, dRdt"
      ],
      "execution_count": null,
      "outputs": []
    },
    {
      "cell_type": "code",
      "metadata": {
        "id": "W2SeK18JVq8G",
        "colab_type": "code",
        "colab": {}
      },
      "source": [
        "N = 328239523\n",
        "D = 7 \n",
        "beta = 1.15 / D # r0 of 1.15/7 days\n",
        "gamma = 1.0 / D\n",
        "\n",
        "S0, I0, R0 = 325598897, 2640626, 1282378  # initial conditions: july 1st; R = recovered + dead"
      ],
      "execution_count": null,
      "outputs": []
    },
    {
      "cell_type": "code",
      "metadata": {
        "id": "7xFSx7CTXkgh",
        "colab_type": "code",
        "colab": {}
      },
      "source": [
        "t = np.linspace(0, 20, 21) # Grid of time points (in days)\n",
        "y0 = S0, I0, R0 # Initial conditions vector\n",
        "\n",
        "# Integrate the SIR equations over the time grid, t.\n",
        "ret = odeint(deriv, y0, t, args=(N, beta, gamma))\n",
        "S, I, R = ret.T "
      ],
      "execution_count": null,
      "outputs": []
    },
    {
      "cell_type": "code",
      "metadata": {
        "id": "pp0jLr6bjA-X",
        "colab_type": "code",
        "colab": {
          "base_uri": "https://localhost:8080/",
          "height": 54
        },
        "outputId": "6e49327f-92a0-4b1a-c882-bf9ce99828eb"
      },
      "source": [
        "infectionData = []\n",
        "\n",
        "for i in range(21):\n",
        "  infectionData.insert(i, int(round(I[i])))  \n",
        "print(infectionData)"
      ],
      "execution_count": null,
      "outputs": [
        {
          "output_type": "stream",
          "text": [
            "[2640626, 2693966, 2747781, 2802044, 2856729, 2911806, 2967245, 3023014, 3079079, 3135406, 3191957, 3248694, 3305578, 3362567, 3419619, 3476689, 3533732, 3590702, 3647549, 3704225, 3760679]\n"
          ],
          "name": "stdout"
        }
      ]
    },
    {
      "cell_type": "code",
      "metadata": {
        "id": "CYkwiAeaYGgr",
        "colab_type": "code",
        "colab": {}
      },
      "source": [
        "def plotsir(t, S, I, R):\n",
        "  f, ax = plt.subplots(1,1,figsize=(10,4))\n",
        "  ax.plot(t, S, 'b', alpha=0.7, linewidth=2, label='Susceptible')\n",
        "  ax.plot(t, I, 'y', alpha=0.7, linewidth=2, label='Infected')\n",
        "  ax.plot(t, R, 'g', alpha=0.7, linewidth=2, label='Recovered')\n",
        "\n",
        "  ax.set_xlabel('Time (days)')\n",
        "  ax.set_ylabel('Population')\n",
        "  ax.yaxis.set_tick_params(length=0)\n",
        "  ax.xaxis.set_tick_params(length=0)\n",
        "  ax.grid(b=True, which='major', c='w', lw=2, ls='-')\n",
        "  legend = ax.legend()\n",
        "  legend.get_frame().set_alpha(0.5)\n",
        "  for spine in ('top', 'right', 'bottom', 'left'):\n",
        "      ax.spines[spine].set_visible(False)\n",
        "  plt.show();"
      ],
      "execution_count": null,
      "outputs": []
    },
    {
      "cell_type": "code",
      "metadata": {
        "id": "Std7-P7OYIF9",
        "colab_type": "code",
        "colab": {
          "base_uri": "https://localhost:8080/",
          "height": 309
        },
        "outputId": "a8fb1b92-1006-40c0-80b3-befd3a6eefb3"
      },
      "source": [
        "plotsir(t, S, I, R)"
      ],
      "execution_count": null,
      "outputs": [
        {
          "output_type": "display_data",
          "data": {
            "image/png": "[encoded data removed]",
            "text/html": [
              "\n",
              "\n",
              "<style>\n",
              "\n",
              "</style>\n",
              "\n",
              "<div id=\"fig_el1001405970362851763226426916\"></div>\n",
              "<script>\n",
              "function mpld3_load_lib(url, callback){\n",
              "  var s = document.createElement('script');\n",
              "  s.src = url;\n",
              "  s.async = true;\n",
              "  s.onreadystatechange = s.onload = callback;\n",
              "  s.onerror = function(){console.warn(\"failed to load library \" + url);};\n",
              "  document.getElementsByTagName(\"head\")[0].appendChild(s);\n",
              "}\n",
              "\n",
              "if(typeof(mpld3) !== \"undefined\" && mpld3._mpld3IsLoaded){\n",
              "   // already loaded: just create the figure\n",
              "   !function(mpld3){\n",
              "       \n",
              "       mpld3.draw_figure(\"fig_el1001405970362851763226426916\", {\"width\": 720.0, \"height\": 288.0, \"axes\": [{\"bbox\": [0.125, 0.125, 0.775, 0.755], \"xlim\": [-1.0, 21.0], \"ylim\": [-14933447.950000001, 341814722.95], \"xdomain\": [-1.0, 21.0], \"ydomain\": [-14933447.950000001, 341814722.95], \"xscale\": \"linear\", \"yscale\": \"linear\", \"axes\": [{\"position\": \"bottom\", \"nticks\": 11, \"tickvalues\": null, \"tickformat_formatter\": \"\", \"tickformat\": null, \"scale\": \"linear\", \"fontsize\": 10.0, \"grid\": {\"gridOn\": true, \"color\": \"#FFFFFF\", \"dasharray\": \"none\", \"alpha\": 1.0}, \"visible\": true}, {\"position\": \"left\", \"nticks\": 9, \"tickvalues\": null, \"tickformat_formatter\": \"\", \"tickformat\": null, \"scale\": \"linear\", \"fontsize\": 10.0, \"grid\": {\"gridOn\": true, \"color\": \"#FFFFFF\", \"dasharray\": \"none\", \"alpha\": 1.0}, \"visible\": true}], \"axesbg\": \"#FFFFFF\", \"axesbgalpha\": null, \"zoomable\": true, \"id\": \"el100140597036284448\", \"lines\": [{\"data\": \"data01\", \"xindex\": 0, \"yindex\": 1, \"coordinates\": \"data\", \"id\": \"el100140597036088736\", \"color\": \"#0000FF\", \"linewidth\": 2.0, \"dasharray\": \"none\", \"alpha\": 0.7, \"zorder\": 2, \"drawstyle\": \"default\"}, {\"data\": \"data01\", \"xindex\": 0, \"yindex\": 2, \"coordinates\": \"data\", \"id\": \"el100140597036089016\", \"color\": \"#BFBF00\", \"linewidth\": 2.0, \"dasharray\": \"none\", \"alpha\": 0.7, \"zorder\": 2, \"drawstyle\": \"default\"}, {\"data\": \"data01\", \"xindex\": 0, \"yindex\": 3, \"coordinates\": \"data\", \"id\": \"el100140597036159552\", \"color\": \"#007F00\", \"linewidth\": 2.0, \"dasharray\": \"none\", \"alpha\": 0.7, \"zorder\": 2, \"drawstyle\": \"default\"}, {\"data\": \"data02\", \"xindex\": 0, \"yindex\": 1, \"coordinates\": \"axes\", \"id\": \"el100140597036162408\", \"color\": \"#0000FF\", \"linewidth\": 2.0, \"dasharray\": \"none\", \"alpha\": 0.7, \"zorder\": 1000002.0, \"drawstyle\": \"default\"}, {\"data\": \"data02\", \"xindex\": 0, \"yindex\": 2, \"coordinates\": \"axes\", \"id\": \"el100140597035700688\", \"color\": \"#BFBF00\", \"linewidth\": 2.0, \"dasharray\": \"none\", \"alpha\": 0.7, \"zorder\": 1000002.0, \"drawstyle\": \"default\"}, {\"data\": \"data02\", \"xindex\": 0, \"yindex\": 3, \"coordinates\": \"axes\", \"id\": \"el100140597035701752\", \"color\": \"#007F00\", \"linewidth\": 2.0, \"dasharray\": \"none\", \"alpha\": 0.7, \"zorder\": 1000002.0, \"drawstyle\": \"default\"}], \"paths\": [{\"data\": \"data03\", \"xindex\": 0, \"yindex\": 1, \"coordinates\": \"axes\", \"pathcodes\": [\"M\", \"L\", \"S\", \"L\", \"S\", \"L\", \"S\", \"L\", \"S\", \"Z\"], \"id\": \"el100140597036161456\", \"dasharray\": \"none\", \"alpha\": 0.5, \"facecolor\": \"rgba(255, 255, 255, 0.5)\", \"edgecolor\": \"rgba(204, 204, 204, 0.5)\", \"edgewidth\": 1.0, \"zorder\": 1000000.0}], \"markers\": [], \"texts\": [{\"text\": \"Time (days)\", \"position\": [0.5, -0.08048197203826342], \"coordinates\": \"axes\", \"h_anchor\": \"middle\", \"v_baseline\": \"hanging\", \"rotation\": -0.0, \"fontsize\": 10.0, \"color\": \"#000000\", \"alpha\": 1, \"zorder\": 3, \"id\": \"el100140597036191816\"}, {\"text\": \"Population\", \"position\": [-0.04211469534050179, 0.49999999999999994], \"coordinates\": \"axes\", \"h_anchor\": \"middle\", \"v_baseline\": \"auto\", \"rotation\": -90.0, \"fontsize\": 10.0, \"color\": \"#000000\", \"alpha\": 1, \"zorder\": 3, \"id\": \"el100140597185839000\"}, {\"text\": \"Susceptible\", \"position\": [0.8803763440860216, 0.5551876379690949], \"coordinates\": \"axes\", \"h_anchor\": \"start\", \"v_baseline\": \"auto\", \"rotation\": -0.0, \"fontsize\": 10.0, \"color\": \"#000000\", \"alpha\": 1, \"zorder\": 1000003.0, \"id\": \"el100140597036161904\"}, {\"text\": \"Infected\", \"position\": [0.8803763440860216, 0.48620309050772625], \"coordinates\": \"axes\", \"h_anchor\": \"start\", \"v_baseline\": \"auto\", \"rotation\": -0.0, \"fontsize\": 10.0, \"color\": \"#000000\", \"alpha\": 1, \"zorder\": 1000003.0, \"id\": \"el100140597036163024\"}, {\"text\": \"Recovered\", \"position\": [0.8803763440860216, 0.41721854304635764], \"coordinates\": \"axes\", \"h_anchor\": \"start\", \"v_baseline\": \"auto\", \"rotation\": -0.0, \"fontsize\": 10.0, \"color\": \"#000000\", \"alpha\": 1, \"zorder\": 1000003.0, \"id\": \"el100140597035701304\"}], \"collections\": [], \"images\": [], \"sharex\": [], \"sharey\": []}], \"data\": {\"data01\": [[0.0, 325598897.0, 2640626.0, 1282378.0], [1.0, 325164520.2062746, 2693966.3011484765, 1663414.492576954], [2.0, 324722014.74922997, 2747781.0233818614, 2052105.2273881554], [3.0, 324271340.47619694, 2802044.373429839, 2448516.1503732163], [4.0, 323812462.59505755, 2856729.003924869, 2852709.401017596], [5.0, 323345351.8504713, 2911806.0269381395, 3264743.1225906136], [6.0, 322869984.8056354, 2967244.9936559107, 3684671.2007087343], [7.0, 322386344.0220675, 3023013.892289475, 4112543.085643038], [8.0, 321894418.2807799, 3079079.1487981854, 4548403.570421914], [9.0, 321394202.9165909, 3135405.6251859427, 4992292.458223125], [10.0, 320885699.90379524, 3191956.635679884, 5444244.460524898], [11.0, 320368918.09760195, 3248693.954396906, 5904288.94800113], [12.0, 319843873.4422546, 3305577.8401613957, 6372449.717583962], [13.0, 319310589.1694222, 3362567.0514825145, 6848744.77909526], [14.0, 318769095.96618557, 3419618.8861964955, 7333186.147617918], [15.0, 318219432.16214806, 3476689.205855827, 7825779.631996067], [16.0, 317661643.87591356, 3533732.4855286037, 8326524.638557778], [17.0, 317095785.1656794, 3590701.8577580093, 8835413.976562593], [18.0, 316521918.17315537, 3647549.1618938176, 9352433.664950777], [19.0, 315940113.2810762, 3704224.985766167, 9877562.73315761], [20.0, 315350449.142711, 3760678.7647213615, 10410773.092567671]], \"data02\": [[0.8301971326164875, 0.5712840323767475, 0.5022994849153789, 0.43331493745401034], [0.8660394265232976, 0.5712840323767475, 0.5022994849153789, 0.43331493745401034]], \"data03\": [[0.8266129032258065, 0.38962472406181015], [0.9874551971326165, 0.38962472406181015], [0.9910394265232975, 0.38962472406181015], [0.9910394265232975, 0.398822663723326], [0.9910394265232975, 0.601177336276674], [0.9910394265232975, 0.6103752759381899], [0.9874551971326165, 0.6103752759381899], [0.8266129032258065, 0.6103752759381899], [0.8230286738351255, 0.6103752759381899], [0.8230286738351255, 0.601177336276674], [0.8230286738351255, 0.398822663723326], [0.8230286738351255, 0.38962472406181015], [0.8266129032258065, 0.38962472406181015]]}, \"id\": \"el100140597036285176\", \"plugins\": [{\"type\": \"reset\"}, {\"type\": \"zoom\", \"button\": true, \"enabled\": false}, {\"type\": \"boxzoom\", \"button\": true, \"enabled\": false}]});\n",
              "   }(mpld3);\n",
              "}else if(typeof define === \"function\" && define.amd){\n",
              "   // require.js is available: use it to load d3/mpld3\n",
              "   require.config({paths: {d3: \"https://d3js.org/d3.v5\"}});\n",
              "   require([\"d3\"], function(d3){\n",
              "      window.d3 = d3;\n",
              "      mpld3_load_lib(\"https://mpld3.github.io/js/mpld3.v0.5.1.js\", function(){\n",
              "         \n",
              "         mpld3.draw_figure(\"fig_el1001405970362851763226426916\", {\"width\": 720.0, \"height\": 288.0, \"axes\": [{\"bbox\": [0.125, 0.125, 0.775, 0.755], \"xlim\": [-1.0, 21.0], \"ylim\": [-14933447.950000001, 341814722.95], \"xdomain\": [-1.0, 21.0], \"ydomain\": [-14933447.950000001, 341814722.95], \"xscale\": \"linear\", \"yscale\": \"linear\", \"axes\": [{\"position\": \"bottom\", \"nticks\": 11, \"tickvalues\": null, \"tickformat_formatter\": \"\", \"tickformat\": null, \"scale\": \"linear\", \"fontsize\": 10.0, \"grid\": {\"gridOn\": true, \"color\": \"#FFFFFF\", \"dasharray\": \"none\", \"alpha\": 1.0}, \"visible\": true}, {\"position\": \"left\", \"nticks\": 9, \"tickvalues\": null, \"tickformat_formatter\": \"\", \"tickformat\": null, \"scale\": \"linear\", \"fontsize\": 10.0, \"grid\": {\"gridOn\": true, \"color\": \"#FFFFFF\", \"dasharray\": \"none\", \"alpha\": 1.0}, \"visible\": true}], \"axesbg\": \"#FFFFFF\", \"axesbgalpha\": null, \"zoomable\": true, \"id\": \"el100140597036284448\", \"lines\": [{\"data\": \"data01\", \"xindex\": 0, \"yindex\": 1, \"coordinates\": \"data\", \"id\": \"el100140597036088736\", \"color\": \"#0000FF\", \"linewidth\": 2.0, \"dasharray\": \"none\", \"alpha\": 0.7, \"zorder\": 2, \"drawstyle\": \"default\"}, {\"data\": \"data01\", \"xindex\": 0, \"yindex\": 2, \"coordinates\": \"data\", \"id\": \"el100140597036089016\", \"color\": \"#BFBF00\", \"linewidth\": 2.0, \"dasharray\": \"none\", \"alpha\": 0.7, \"zorder\": 2, \"drawstyle\": \"default\"}, {\"data\": \"data01\", \"xindex\": 0, \"yindex\": 3, \"coordinates\": \"data\", \"id\": \"el100140597036159552\", \"color\": \"#007F00\", \"linewidth\": 2.0, \"dasharray\": \"none\", \"alpha\": 0.7, \"zorder\": 2, \"drawstyle\": \"default\"}, {\"data\": \"data02\", \"xindex\": 0, \"yindex\": 1, \"coordinates\": \"axes\", \"id\": \"el100140597036162408\", \"color\": \"#0000FF\", \"linewidth\": 2.0, \"dasharray\": \"none\", \"alpha\": 0.7, \"zorder\": 1000002.0, \"drawstyle\": \"default\"}, {\"data\": \"data02\", \"xindex\": 0, \"yindex\": 2, \"coordinates\": \"axes\", \"id\": \"el100140597035700688\", \"color\": \"#BFBF00\", \"linewidth\": 2.0, \"dasharray\": \"none\", \"alpha\": 0.7, \"zorder\": 1000002.0, \"drawstyle\": \"default\"}, {\"data\": \"data02\", \"xindex\": 0, \"yindex\": 3, \"coordinates\": \"axes\", \"id\": \"el100140597035701752\", \"color\": \"#007F00\", \"linewidth\": 2.0, \"dasharray\": \"none\", \"alpha\": 0.7, \"zorder\": 1000002.0, \"drawstyle\": \"default\"}], \"paths\": [{\"data\": \"data03\", \"xindex\": 0, \"yindex\": 1, \"coordinates\": \"axes\", \"pathcodes\": [\"M\", \"L\", \"S\", \"L\", \"S\", \"L\", \"S\", \"L\", \"S\", \"Z\"], \"id\": \"el100140597036161456\", \"dasharray\": \"none\", \"alpha\": 0.5, \"facecolor\": \"rgba(255, 255, 255, 0.5)\", \"edgecolor\": \"rgba(204, 204, 204, 0.5)\", \"edgewidth\": 1.0, \"zorder\": 1000000.0}], \"markers\": [], \"texts\": [{\"text\": \"Time (days)\", \"position\": [0.5, -0.08048197203826342], \"coordinates\": \"axes\", \"h_anchor\": \"middle\", \"v_baseline\": \"hanging\", \"rotation\": -0.0, \"fontsize\": 10.0, \"color\": \"#000000\", \"alpha\": 1, \"zorder\": 3, \"id\": \"el100140597036191816\"}, {\"text\": \"Population\", \"position\": [-0.04211469534050179, 0.49999999999999994], \"coordinates\": \"axes\", \"h_anchor\": \"middle\", \"v_baseline\": \"auto\", \"rotation\": -90.0, \"fontsize\": 10.0, \"color\": \"#000000\", \"alpha\": 1, \"zorder\": 3, \"id\": \"el100140597185839000\"}, {\"text\": \"Susceptible\", \"position\": [0.8803763440860216, 0.5551876379690949], \"coordinates\": \"axes\", \"h_anchor\": \"start\", \"v_baseline\": \"auto\", \"rotation\": -0.0, \"fontsize\": 10.0, \"color\": \"#000000\", \"alpha\": 1, \"zorder\": 1000003.0, \"id\": \"el100140597036161904\"}, {\"text\": \"Infected\", \"position\": [0.8803763440860216, 0.48620309050772625], \"coordinates\": \"axes\", \"h_anchor\": \"start\", \"v_baseline\": \"auto\", \"rotation\": -0.0, \"fontsize\": 10.0, \"color\": \"#000000\", \"alpha\": 1, \"zorder\": 1000003.0, \"id\": \"el100140597036163024\"}, {\"text\": \"Recovered\", \"position\": [0.8803763440860216, 0.41721854304635764], \"coordinates\": \"axes\", \"h_anchor\": \"start\", \"v_baseline\": \"auto\", \"rotation\": -0.0, \"fontsize\": 10.0, \"color\": \"#000000\", \"alpha\": 1, \"zorder\": 1000003.0, \"id\": \"el100140597035701304\"}], \"collections\": [], \"images\": [], \"sharex\": [], \"sharey\": []}], \"data\": {\"data01\": [[0.0, 325598897.0, 2640626.0, 1282378.0], [1.0, 325164520.2062746, 2693966.3011484765, 1663414.492576954], [2.0, 324722014.74922997, 2747781.0233818614, 2052105.2273881554], [3.0, 324271340.47619694, 2802044.373429839, 2448516.1503732163], [4.0, 323812462.59505755, 2856729.003924869, 2852709.401017596], [5.0, 323345351.8504713, 2911806.0269381395, 3264743.1225906136], [6.0, 322869984.8056354, 2967244.9936559107, 3684671.2007087343], [7.0, 322386344.0220675, 3023013.892289475, 4112543.085643038], [8.0, 321894418.2807799, 3079079.1487981854, 4548403.570421914], [9.0, 321394202.9165909, 3135405.6251859427, 4992292.458223125], [10.0, 320885699.90379524, 3191956.635679884, 5444244.460524898], [11.0, 320368918.09760195, 3248693.954396906, 5904288.94800113], [12.0, 319843873.4422546, 3305577.8401613957, 6372449.717583962], [13.0, 319310589.1694222, 3362567.0514825145, 6848744.77909526], [14.0, 318769095.96618557, 3419618.8861964955, 7333186.147617918], [15.0, 318219432.16214806, 3476689.205855827, 7825779.631996067], [16.0, 317661643.87591356, 3533732.4855286037, 8326524.638557778], [17.0, 317095785.1656794, 3590701.8577580093, 8835413.976562593], [18.0, 316521918.17315537, 3647549.1618938176, 9352433.664950777], [19.0, 315940113.2810762, 3704224.985766167, 9877562.73315761], [20.0, 315350449.142711, 3760678.7647213615, 10410773.092567671]], \"data02\": [[0.8301971326164875, 0.5712840323767475, 0.5022994849153789, 0.43331493745401034], [0.8660394265232976, 0.5712840323767475, 0.5022994849153789, 0.43331493745401034]], \"data03\": [[0.8266129032258065, 0.38962472406181015], [0.9874551971326165, 0.38962472406181015], [0.9910394265232975, 0.38962472406181015], [0.9910394265232975, 0.398822663723326], [0.9910394265232975, 0.601177336276674], [0.9910394265232975, 0.6103752759381899], [0.9874551971326165, 0.6103752759381899], [0.8266129032258065, 0.6103752759381899], [0.8230286738351255, 0.6103752759381899], [0.8230286738351255, 0.601177336276674], [0.8230286738351255, 0.398822663723326], [0.8230286738351255, 0.38962472406181015], [0.8266129032258065, 0.38962472406181015]]}, \"id\": \"el100140597036285176\", \"plugins\": [{\"type\": \"reset\"}, {\"type\": \"zoom\", \"button\": true, \"enabled\": false}, {\"type\": \"boxzoom\", \"button\": true, \"enabled\": false}]});\n",
              "      });\n",
              "    });\n",
              "}else{\n",
              "    // require.js not available: dynamically load d3 & mpld3\n",
              "    mpld3_load_lib(\"https://d3js.org/d3.v5.js\", function(){\n",
              "         mpld3_load_lib(\"https://mpld3.github.io/js/mpld3.v0.5.1.js\", function(){\n",
              "                 \n",
              "                 mpld3.draw_figure(\"fig_el1001405970362851763226426916\", {\"width\": 720.0, \"height\": 288.0, \"axes\": [{\"bbox\": [0.125, 0.125, 0.775, 0.755], \"xlim\": [-1.0, 21.0], \"ylim\": [-14933447.950000001, 341814722.95], \"xdomain\": [-1.0, 21.0], \"ydomain\": [-14933447.950000001, 341814722.95], \"xscale\": \"linear\", \"yscale\": \"linear\", \"axes\": [{\"position\": \"bottom\", \"nticks\": 11, \"tickvalues\": null, \"tickformat_formatter\": \"\", \"tickformat\": null, \"scale\": \"linear\", \"fontsize\": 10.0, \"grid\": {\"gridOn\": true, \"color\": \"#FFFFFF\", \"dasharray\": \"none\", \"alpha\": 1.0}, \"visible\": true}, {\"position\": \"left\", \"nticks\": 9, \"tickvalues\": null, \"tickformat_formatter\": \"\", \"tickformat\": null, \"scale\": \"linear\", \"fontsize\": 10.0, \"grid\": {\"gridOn\": true, \"color\": \"#FFFFFF\", \"dasharray\": \"none\", \"alpha\": 1.0}, \"visible\": true}], \"axesbg\": \"#FFFFFF\", \"axesbgalpha\": null, \"zoomable\": true, \"id\": \"el100140597036284448\", \"lines\": [{\"data\": \"data01\", \"xindex\": 0, \"yindex\": 1, \"coordinates\": \"data\", \"id\": \"el100140597036088736\", \"color\": \"#0000FF\", \"linewidth\": 2.0, \"dasharray\": \"none\", \"alpha\": 0.7, \"zorder\": 2, \"drawstyle\": \"default\"}, {\"data\": \"data01\", \"xindex\": 0, \"yindex\": 2, \"coordinates\": \"data\", \"id\": \"el100140597036089016\", \"color\": \"#BFBF00\", \"linewidth\": 2.0, \"dasharray\": \"none\", \"alpha\": 0.7, \"zorder\": 2, \"drawstyle\": \"default\"}, {\"data\": \"data01\", \"xindex\": 0, \"yindex\": 3, \"coordinates\": \"data\", \"id\": \"el100140597036159552\", \"color\": \"#007F00\", \"linewidth\": 2.0, \"dasharray\": \"none\", \"alpha\": 0.7, \"zorder\": 2, \"drawstyle\": \"default\"}, {\"data\": \"data02\", \"xindex\": 0, \"yindex\": 1, \"coordinates\": \"axes\", \"id\": \"el100140597036162408\", \"color\": \"#0000FF\", \"linewidth\": 2.0, \"dasharray\": \"none\", \"alpha\": 0.7, \"zorder\": 1000002.0, \"drawstyle\": \"default\"}, {\"data\": \"data02\", \"xindex\": 0, \"yindex\": 2, \"coordinates\": \"axes\", \"id\": \"el100140597035700688\", \"color\": \"#BFBF00\", \"linewidth\": 2.0, \"dasharray\": \"none\", \"alpha\": 0.7, \"zorder\": 1000002.0, \"drawstyle\": \"default\"}, {\"data\": \"data02\", \"xindex\": 0, \"yindex\": 3, \"coordinates\": \"axes\", \"id\": \"el100140597035701752\", \"color\": \"#007F00\", \"linewidth\": 2.0, \"dasharray\": \"none\", \"alpha\": 0.7, \"zorder\": 1000002.0, \"drawstyle\": \"default\"}], \"paths\": [{\"data\": \"data03\", \"xindex\": 0, \"yindex\": 1, \"coordinates\": \"axes\", \"pathcodes\": [\"M\", \"L\", \"S\", \"L\", \"S\", \"L\", \"S\", \"L\", \"S\", \"Z\"], \"id\": \"el100140597036161456\", \"dasharray\": \"none\", \"alpha\": 0.5, \"facecolor\": \"rgba(255, 255, 255, 0.5)\", \"edgecolor\": \"rgba(204, 204, 204, 0.5)\", \"edgewidth\": 1.0, \"zorder\": 1000000.0}], \"markers\": [], \"texts\": [{\"text\": \"Time (days)\", \"position\": [0.5, -0.08048197203826342], \"coordinates\": \"axes\", \"h_anchor\": \"middle\", \"v_baseline\": \"hanging\", \"rotation\": -0.0, \"fontsize\": 10.0, \"color\": \"#000000\", \"alpha\": 1, \"zorder\": 3, \"id\": \"el100140597036191816\"}, {\"text\": \"Population\", \"position\": [-0.04211469534050179, 0.49999999999999994], \"coordinates\": \"axes\", \"h_anchor\": \"middle\", \"v_baseline\": \"auto\", \"rotation\": -90.0, \"fontsize\": 10.0, \"color\": \"#000000\", \"alpha\": 1, \"zorder\": 3, \"id\": \"el100140597185839000\"}, {\"text\": \"Susceptible\", \"position\": [0.8803763440860216, 0.5551876379690949], \"coordinates\": \"axes\", \"h_anchor\": \"start\", \"v_baseline\": \"auto\", \"rotation\": -0.0, \"fontsize\": 10.0, \"color\": \"#000000\", \"alpha\": 1, \"zorder\": 1000003.0, \"id\": \"el100140597036161904\"}, {\"text\": \"Infected\", \"position\": [0.8803763440860216, 0.48620309050772625], \"coordinates\": \"axes\", \"h_anchor\": \"start\", \"v_baseline\": \"auto\", \"rotation\": -0.0, \"fontsize\": 10.0, \"color\": \"#000000\", \"alpha\": 1, \"zorder\": 1000003.0, \"id\": \"el100140597036163024\"}, {\"text\": \"Recovered\", \"position\": [0.8803763440860216, 0.41721854304635764], \"coordinates\": \"axes\", \"h_anchor\": \"start\", \"v_baseline\": \"auto\", \"rotation\": -0.0, \"fontsize\": 10.0, \"color\": \"#000000\", \"alpha\": 1, \"zorder\": 1000003.0, \"id\": \"el100140597035701304\"}], \"collections\": [], \"images\": [], \"sharex\": [], \"sharey\": []}], \"data\": {\"data01\": [[0.0, 325598897.0, 2640626.0, 1282378.0], [1.0, 325164520.2062746, 2693966.3011484765, 1663414.492576954], [2.0, 324722014.74922997, 2747781.0233818614, 2052105.2273881554], [3.0, 324271340.47619694, 2802044.373429839, 2448516.1503732163], [4.0, 323812462.59505755, 2856729.003924869, 2852709.401017596], [5.0, 323345351.8504713, 2911806.0269381395, 3264743.1225906136], [6.0, 322869984.8056354, 2967244.9936559107, 3684671.2007087343], [7.0, 322386344.0220675, 3023013.892289475, 4112543.085643038], [8.0, 321894418.2807799, 3079079.1487981854, 4548403.570421914], [9.0, 321394202.9165909, 3135405.6251859427, 4992292.458223125], [10.0, 320885699.90379524, 3191956.635679884, 5444244.460524898], [11.0, 320368918.09760195, 3248693.954396906, 5904288.94800113], [12.0, 319843873.4422546, 3305577.8401613957, 6372449.717583962], [13.0, 319310589.1694222, 3362567.0514825145, 6848744.77909526], [14.0, 318769095.96618557, 3419618.8861964955, 7333186.147617918], [15.0, 318219432.16214806, 3476689.205855827, 7825779.631996067], [16.0, 317661643.87591356, 3533732.4855286037, 8326524.638557778], [17.0, 317095785.1656794, 3590701.8577580093, 8835413.976562593], [18.0, 316521918.17315537, 3647549.1618938176, 9352433.664950777], [19.0, 315940113.2810762, 3704224.985766167, 9877562.73315761], [20.0, 315350449.142711, 3760678.7647213615, 10410773.092567671]], \"data02\": [[0.8301971326164875, 0.5712840323767475, 0.5022994849153789, 0.43331493745401034], [0.8660394265232976, 0.5712840323767475, 0.5022994849153789, 0.43331493745401034]], \"data03\": [[0.8266129032258065, 0.38962472406181015], [0.9874551971326165, 0.38962472406181015], [0.9910394265232975, 0.38962472406181015], [0.9910394265232975, 0.398822663723326], [0.9910394265232975, 0.601177336276674], [0.9910394265232975, 0.6103752759381899], [0.9874551971326165, 0.6103752759381899], [0.8266129032258065, 0.6103752759381899], [0.8230286738351255, 0.6103752759381899], [0.8230286738351255, 0.601177336276674], [0.8230286738351255, 0.398822663723326], [0.8230286738351255, 0.38962472406181015], [0.8266129032258065, 0.38962472406181015]]}, \"id\": \"el100140597036285176\", \"plugins\": [{\"type\": \"reset\"}, {\"type\": \"zoom\", \"button\": true, \"enabled\": false}, {\"type\": \"boxzoom\", \"button\": true, \"enabled\": false}]});\n",
              "            })\n",
              "         });\n",
              "}\n",
              "</script>"
            ],
            "text/plain": [
              "<Figure size 720x288 with 1 Axes>"
            ]
          },
          "metadata": {
            "tags": [],
            "needs_background": "light"
          }
        }
      ]
    },
    {
      "cell_type": "code",
      "metadata": {
        "id": "xMk2zUJPvYB5",
        "colab_type": "code",
        "colab": {}
      },
      "source": [
        "from numpy import savetxt\n",
        "savetxt('SIR21S.csv', S, delimiter=',')\n",
        "savetxt('SIR21I.csv', I, delimiter=',')\n",
        "savetxt('SIR21R.csv', R, delimiter=',')"
      ],
      "execution_count": null,
      "outputs": []
    }
  ]
}