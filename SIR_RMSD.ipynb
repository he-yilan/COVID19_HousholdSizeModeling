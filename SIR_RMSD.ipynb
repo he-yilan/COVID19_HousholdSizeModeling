{
  "nbformat": 4,
  "nbformat_minor": 0,
  "metadata": {
    "colab": {
      "name": "SIR_RMSD.ipynb",
      "provenance": [],
      "collapsed_sections": [],
      "toc_visible": true,
      "mount_file_id": "1cDbtoTXQj9SKbAEKLAdRkEp4Iab3_4VZ",
      "authorship_tag": "ABX9TyPU/IPC9ghyDQD5Zu+brWYE",
      "include_colab_link": true
    },
    "kernelspec": {
      "name": "python3",
      "display_name": "Python 3"
    }
  },
  "cells": [
    {
      "cell_type": "markdown",
      "metadata": {
        "id": "view-in-github",
        "colab_type": "text"
      },
      "source": [
        "<a href=\"https://colab.research.google.com/github/he-yilan/COVID19_HousholdSizeModeling/blob/master/SIR_RMSD.ipynb\" target=\"_parent\"><img src=\"https://colab.research.google.com/assets/colab-badge.svg\" alt=\"Open In Colab\"/></a>"
      ]
    },
    {
      "cell_type": "code",
      "metadata": {
        "id": "39XePa7_m663",
        "colab_type": "code",
        "colab": {}
      },
      "source": [
        "import math\n",
        "import pandas as pd\n",
        "import matplotlib.pyplot as plt\n",
        "from sklearn.metrics import mean_squared_error\n",
        "from math import sqrt"
      ],
      "execution_count": null,
      "outputs": []
    },
    {
      "cell_type": "code",
      "metadata": {
        "id": "mN6GqGDpj_MZ",
        "colab_type": "code",
        "colab": {}
      },
      "source": [
        "outputs = [2640626, 2693966, 2747781, 2802044, 2856729, 2911806, 2967245, \n",
        "           3023014, 3079079, 3135406, 3191957, 3248694, 3305578, 3362567, \n",
        "           3419619, 3476689, 3533732, 3590702, 3647549, 3704225, 3760679]"
      ],
      "execution_count": null,
      "outputs": []
    },
    {
      "cell_type": "markdown",
      "metadata": {
        "id": "4dMfXjliFKm5",
        "colab_type": "text"
      },
      "source": [
        "##NYT"
      ]
    },
    {
      "cell_type": "code",
      "metadata": {
        "id": "sOSTWcZiGsic",
        "colab_type": "code",
        "colab": {}
      },
      "source": [
        "IRLdata = []\n",
        "residuals = []"
      ],
      "execution_count": null,
      "outputs": []
    },
    {
      "cell_type": "code",
      "metadata": {
        "id": "iVJA7wmfnSvd",
        "colab_type": "code",
        "colab": {
          "base_uri": "https://localhost:8080/",
          "height": 700
        },
        "outputId": "ae6179b9-9eea-4a9a-9838-950d61d4c793"
      },
      "source": [
        "NYTdata = pd.read_csv('/content/drive/My Drive/Data/us 21.csv')\n",
        "NYTdata = NYTdata.head(21)\n",
        "\n",
        "for i in range(len(NYTdata.cases)):\n",
        "  IRLdata.insert(i, NYTdata.cases[i])\n",
        "\n",
        "NYTdata"
      ],
      "execution_count": null,
      "outputs": [
        {
          "output_type": "execute_result",
          "data": {
            "text/html": [
              "<div>\n",
              "<style scoped>\n",
              "    .dataframe tbody tr th:only-of-type {\n",
              "        vertical-align: middle;\n",
              "    }\n",
              "\n",
              "    .dataframe tbody tr th {\n",
              "        vertical-align: top;\n",
              "    }\n",
              "\n",
              "    .dataframe thead th {\n",
              "        text-align: right;\n",
              "    }\n",
              "</style>\n",
              "<table border=\"1\" class=\"dataframe\">\n",
              "  <thead>\n",
              "    <tr style=\"text-align: right;\">\n",
              "      <th></th>\n",
              "      <th>date</th>\n",
              "      <th>cases</th>\n",
              "      <th>deaths</th>\n",
              "    </tr>\n",
              "  </thead>\n",
              "  <tbody>\n",
              "    <tr>\n",
              "      <th>0</th>\n",
              "      <td>2020/7/1</td>\n",
              "      <td>2703296</td>\n",
              "      <td>128104</td>\n",
              "    </tr>\n",
              "    <tr>\n",
              "      <th>1</th>\n",
              "      <td>2020/7/2</td>\n",
              "      <td>2758851</td>\n",
              "      <td>128827</td>\n",
              "    </tr>\n",
              "    <tr>\n",
              "      <th>2</th>\n",
              "      <td>2020/7/3</td>\n",
              "      <td>2815374</td>\n",
              "      <td>129417</td>\n",
              "    </tr>\n",
              "    <tr>\n",
              "      <th>3</th>\n",
              "      <td>2020/7/4</td>\n",
              "      <td>2866014</td>\n",
              "      <td>129679</td>\n",
              "    </tr>\n",
              "    <tr>\n",
              "      <th>4</th>\n",
              "      <td>2020/7/5</td>\n",
              "      <td>2910780</td>\n",
              "      <td>129941</td>\n",
              "    </tr>\n",
              "    <tr>\n",
              "      <th>5</th>\n",
              "      <td>2020/7/6</td>\n",
              "      <td>2958095</td>\n",
              "      <td>130332</td>\n",
              "    </tr>\n",
              "    <tr>\n",
              "      <th>6</th>\n",
              "      <td>2020/7/7</td>\n",
              "      <td>3012252</td>\n",
              "      <td>131290</td>\n",
              "    </tr>\n",
              "    <tr>\n",
              "      <th>7</th>\n",
              "      <td>2020/7/8</td>\n",
              "      <td>3071711</td>\n",
              "      <td>132238</td>\n",
              "    </tr>\n",
              "    <tr>\n",
              "      <th>8</th>\n",
              "      <td>2020/7/9</td>\n",
              "      <td>3131610</td>\n",
              "      <td>133079</td>\n",
              "    </tr>\n",
              "    <tr>\n",
              "      <th>9</th>\n",
              "      <td>2020/7/10</td>\n",
              "      <td>3199837</td>\n",
              "      <td>133907</td>\n",
              "    </tr>\n",
              "    <tr>\n",
              "      <th>10</th>\n",
              "      <td>2020/7/11</td>\n",
              "      <td>3260565</td>\n",
              "      <td>134582</td>\n",
              "    </tr>\n",
              "    <tr>\n",
              "      <th>11</th>\n",
              "      <td>2020/7/12</td>\n",
              "      <td>3318372</td>\n",
              "      <td>134977</td>\n",
              "    </tr>\n",
              "    <tr>\n",
              "      <th>12</th>\n",
              "      <td>2020/7/13</td>\n",
              "      <td>3379943</td>\n",
              "      <td>135402</td>\n",
              "    </tr>\n",
              "    <tr>\n",
              "      <th>13</th>\n",
              "      <td>2020/7/14</td>\n",
              "      <td>3445544</td>\n",
              "      <td>136356</td>\n",
              "    </tr>\n",
              "    <tr>\n",
              "      <th>14</th>\n",
              "      <td>2020/7/15</td>\n",
              "      <td>3513892</td>\n",
              "      <td>137327</td>\n",
              "    </tr>\n",
              "    <tr>\n",
              "      <th>15</th>\n",
              "      <td>2020/7/16</td>\n",
              "      <td>3589589</td>\n",
              "      <td>138285</td>\n",
              "    </tr>\n",
              "    <tr>\n",
              "      <th>16</th>\n",
              "      <td>2020/7/17</td>\n",
              "      <td>3660512</td>\n",
              "      <td>139186</td>\n",
              "    </tr>\n",
              "    <tr>\n",
              "      <th>17</th>\n",
              "      <td>2020/7/18</td>\n",
              "      <td>3722966</td>\n",
              "      <td>139961</td>\n",
              "    </tr>\n",
              "    <tr>\n",
              "      <th>18</th>\n",
              "      <td>2020/7/19</td>\n",
              "      <td>3785241</td>\n",
              "      <td>140373</td>\n",
              "    </tr>\n",
              "    <tr>\n",
              "      <th>19</th>\n",
              "      <td>2020/7/20</td>\n",
              "      <td>3845124</td>\n",
              "      <td>140904</td>\n",
              "    </tr>\n",
              "    <tr>\n",
              "      <th>20</th>\n",
              "      <td>2020/7/21</td>\n",
              "      <td>3910398</td>\n",
              "      <td>142031</td>\n",
              "    </tr>\n",
              "  </tbody>\n",
              "</table>\n",
              "</div>"
            ],
            "text/plain": [
              "         date    cases  deaths\n",
              "0    2020/7/1  2703296  128104\n",
              "1    2020/7/2  2758851  128827\n",
              "2    2020/7/3  2815374  129417\n",
              "3    2020/7/4  2866014  129679\n",
              "4    2020/7/5  2910780  129941\n",
              "5    2020/7/6  2958095  130332\n",
              "6    2020/7/7  3012252  131290\n",
              "7    2020/7/8  3071711  132238\n",
              "8    2020/7/9  3131610  133079\n",
              "9   2020/7/10  3199837  133907\n",
              "10  2020/7/11  3260565  134582\n",
              "11  2020/7/12  3318372  134977\n",
              "12  2020/7/13  3379943  135402\n",
              "13  2020/7/14  3445544  136356\n",
              "14  2020/7/15  3513892  137327\n",
              "15  2020/7/16  3589589  138285\n",
              "16  2020/7/17  3660512  139186\n",
              "17  2020/7/18  3722966  139961\n",
              "18  2020/7/19  3785241  140373\n",
              "19  2020/7/20  3845124  140904\n",
              "20  2020/7/21  3910398  142031"
            ]
          },
          "metadata": {
            "tags": []
          },
          "execution_count": 7
        }
      ]
    },
    {
      "cell_type": "code",
      "metadata": {
        "id": "J1O1klPNxlIs",
        "colab_type": "code",
        "colab": {
          "base_uri": "https://localhost:8080/",
          "height": 34
        },
        "outputId": "c679a7fa-60f9-4896-f315-e22b33ba8dbd"
      },
      "source": [
        "rms = sqrt(mean_squared_error(IRLdata, outputs))\n",
        "print(rms)"
      ],
      "execution_count": null,
      "outputs": [
        {
          "output_type": "stream",
          "text": [
            "90389.68286285564\n"
          ],
          "name": "stdout"
        }
      ]
    },
    {
      "cell_type": "code",
      "metadata": {
        "id": "vAH9hfQlGaoW",
        "colab_type": "code",
        "colab": {
          "base_uri": "https://localhost:8080/",
          "height": 295
        },
        "outputId": "fc12f995-cb9c-422e-c905-c34db63b1660"
      },
      "source": [
        "x = [0,1,2,3,4,5,6,7,8,9,10,11,12,13,14,15,16,17,18,19,20]\n",
        "\n",
        "y1 = NYTdata.cases\n",
        "y2 = outputs\n",
        "\n",
        "plt.plot(x, y1, label=\"NYT Data\")\n",
        "plt.plot(x, y2, label=\"SIR Model Predictions\")\n",
        "\n",
        "plt.xlabel(\"Days from July 1, 2020\")\n",
        "plt.ylabel(\"Number of Cases (Millions)\")\n",
        "plt.title(\"SIR Model Predictions vs. NYT Data\")\n",
        "\n",
        "plt.legend()\n",
        "plt.show()"
      ],
      "execution_count": null,
      "outputs": [
        {
          "output_type": "display_data",
          "data": {
            "image/png": "[encoded data removed]",
            "text/plain": [
              "<Figure size 432x288 with 1 Axes>"
            ]
          },
          "metadata": {
            "tags": [],
            "needs_background": "light"
          }
        }
      ]
    },
    {
      "cell_type": "markdown",
      "metadata": {
        "id": "HldL3sRhFRNA",
        "colab_type": "text"
      },
      "source": [
        "##Wikipedia"
      ]
    },
    {
      "cell_type": "code",
      "metadata": {
        "id": "ORiiZKfoGwG5",
        "colab_type": "code",
        "colab": {}
      },
      "source": [
        "IRLdata = []\n",
        "residuals = []"
      ],
      "execution_count": null,
      "outputs": []
    },
    {
      "cell_type": "code",
      "metadata": {
        "id": "dH4JxHqSFSv-",
        "colab_type": "code",
        "colab": {
          "base_uri": "https://localhost:8080/",
          "height": 700
        },
        "outputId": "9d08d84b-54c3-4f20-be26-6ada59dc3e65"
      },
      "source": [
        "WIKIdata = pd.read_csv('/content/drive/My Drive/Data/wikipedia21 - Sheet1.csv')\n",
        "\n",
        "for i in range(len(WIKIdata.cases)):\n",
        "  IRLdata.insert(i, WIKIdata.cases[i])\n",
        "\n",
        "WIKIdata"
      ],
      "execution_count": null,
      "outputs": [
        {
          "output_type": "execute_result",
          "data": {
            "text/html": [
              "<div>\n",
              "<style scoped>\n",
              "    .dataframe tbody tr th:only-of-type {\n",
              "        vertical-align: middle;\n",
              "    }\n",
              "\n",
              "    .dataframe tbody tr th {\n",
              "        vertical-align: top;\n",
              "    }\n",
              "\n",
              "    .dataframe thead th {\n",
              "        text-align: right;\n",
              "    }\n",
              "</style>\n",
              "<table border=\"1\" class=\"dataframe\">\n",
              "  <thead>\n",
              "    <tr style=\"text-align: right;\">\n",
              "      <th></th>\n",
              "      <th>Date</th>\n",
              "      <th>cases</th>\n",
              "      <th>deaths</th>\n",
              "    </tr>\n",
              "  </thead>\n",
              "  <tbody>\n",
              "    <tr>\n",
              "      <th>0</th>\n",
              "      <td>7/1/2020</td>\n",
              "      <td>2640626</td>\n",
              "      <td>117698</td>\n",
              "    </tr>\n",
              "    <tr>\n",
              "      <th>1</th>\n",
              "      <td>7/2/2020</td>\n",
              "      <td>2695495</td>\n",
              "      <td>118369</td>\n",
              "    </tr>\n",
              "    <tr>\n",
              "      <th>2</th>\n",
              "      <td>7/3/2020</td>\n",
              "      <td>2752704</td>\n",
              "      <td>118979</td>\n",
              "    </tr>\n",
              "    <tr>\n",
              "      <th>3</th>\n",
              "      <td>7/4/2020</td>\n",
              "      <td>2803397</td>\n",
              "      <td>119252</td>\n",
              "    </tr>\n",
              "    <tr>\n",
              "      <th>4</th>\n",
              "      <td>7/5/2020</td>\n",
              "      <td>2846350</td>\n",
              "      <td>119464</td>\n",
              "    </tr>\n",
              "    <tr>\n",
              "      <th>5</th>\n",
              "      <td>7/6/2020</td>\n",
              "      <td>2893083</td>\n",
              "      <td>119698</td>\n",
              "    </tr>\n",
              "    <tr>\n",
              "      <th>6</th>\n",
              "      <td>7/7/2020</td>\n",
              "      <td>2944191</td>\n",
              "      <td>120615</td>\n",
              "    </tr>\n",
              "    <tr>\n",
              "      <th>7</th>\n",
              "      <td>7/8/2020</td>\n",
              "      <td>3006650</td>\n",
              "      <td>121428</td>\n",
              "    </tr>\n",
              "    <tr>\n",
              "      <th>8</th>\n",
              "      <td>7/9/2020</td>\n",
              "      <td>3064093</td>\n",
              "      <td>122296</td>\n",
              "    </tr>\n",
              "    <tr>\n",
              "      <th>9</th>\n",
              "      <td>7/10/2020</td>\n",
              "      <td>3131114</td>\n",
              "      <td>123151</td>\n",
              "    </tr>\n",
              "    <tr>\n",
              "      <th>10</th>\n",
              "      <td>7/11/2020</td>\n",
              "      <td>3193522</td>\n",
              "      <td>123869</td>\n",
              "    </tr>\n",
              "    <tr>\n",
              "      <th>11</th>\n",
              "      <td>7/12/2020</td>\n",
              "      <td>3254486</td>\n",
              "      <td>124346</td>\n",
              "    </tr>\n",
              "    <tr>\n",
              "      <th>12</th>\n",
              "      <td>7/13/2020</td>\n",
              "      <td>3312422</td>\n",
              "      <td>124628</td>\n",
              "    </tr>\n",
              "    <tr>\n",
              "      <th>13</th>\n",
              "      <td>7/14/2020</td>\n",
              "      <td>3374256</td>\n",
              "      <td>125413</td>\n",
              "    </tr>\n",
              "    <tr>\n",
              "      <th>14</th>\n",
              "      <td>7/15/2020</td>\n",
              "      <td>3439626</td>\n",
              "      <td>126286</td>\n",
              "    </tr>\n",
              "    <tr>\n",
              "      <th>15</th>\n",
              "      <td>7/16/2020</td>\n",
              "      <td>3509610</td>\n",
              "      <td>127210</td>\n",
              "    </tr>\n",
              "    <tr>\n",
              "      <th>16</th>\n",
              "      <td>7/17/2020</td>\n",
              "      <td>3585701</td>\n",
              "      <td>128146</td>\n",
              "    </tr>\n",
              "    <tr>\n",
              "      <th>17</th>\n",
              "      <td>7/18/2020</td>\n",
              "      <td>3651090</td>\n",
              "      <td>129025</td>\n",
              "    </tr>\n",
              "    <tr>\n",
              "      <th>18</th>\n",
              "      <td>7/19/2020</td>\n",
              "      <td>3714681</td>\n",
              "      <td>129537</td>\n",
              "    </tr>\n",
              "    <tr>\n",
              "      <th>19</th>\n",
              "      <td>7/20/2020</td>\n",
              "      <td>3770577</td>\n",
              "      <td>129927</td>\n",
              "    </tr>\n",
              "    <tr>\n",
              "      <th>20</th>\n",
              "      <td>7/21/2020</td>\n",
              "      <td>3834073</td>\n",
              "      <td>130966</td>\n",
              "    </tr>\n",
              "  </tbody>\n",
              "</table>\n",
              "</div>"
            ],
            "text/plain": [
              "         Date    cases  deaths\n",
              "0    7/1/2020  2640626  117698\n",
              "1    7/2/2020  2695495  118369\n",
              "2    7/3/2020  2752704  118979\n",
              "3    7/4/2020  2803397  119252\n",
              "4    7/5/2020  2846350  119464\n",
              "5    7/6/2020  2893083  119698\n",
              "6    7/7/2020  2944191  120615\n",
              "7    7/8/2020  3006650  121428\n",
              "8    7/9/2020  3064093  122296\n",
              "9   7/10/2020  3131114  123151\n",
              "10  7/11/2020  3193522  123869\n",
              "11  7/12/2020  3254486  124346\n",
              "12  7/13/2020  3312422  124628\n",
              "13  7/14/2020  3374256  125413\n",
              "14  7/15/2020  3439626  126286\n",
              "15  7/16/2020  3509610  127210\n",
              "16  7/17/2020  3585701  128146\n",
              "17  7/18/2020  3651090  129025\n",
              "18  7/19/2020  3714681  129537\n",
              "19  7/20/2020  3770577  129927\n",
              "20  7/21/2020  3834073  130966"
            ]
          },
          "metadata": {
            "tags": []
          },
          "execution_count": 11
        }
      ]
    },
    {
      "cell_type": "code",
      "metadata": {
        "id": "_5IJurmWFfp5",
        "colab_type": "code",
        "colab": {
          "base_uri": "https://localhost:8080/",
          "height": 34
        },
        "outputId": "5e9f565d-ab0f-40e0-ca7a-cfadcc811983"
      },
      "source": [
        "rms = sqrt(mean_squared_error(IRLdata, outputs))\n",
        "print(rms)"
      ],
      "execution_count": null,
      "outputs": [
        {
          "output_type": "stream",
          "text": [
            "33718.68884503921\n"
          ],
          "name": "stdout"
        }
      ]
    },
    {
      "cell_type": "code",
      "metadata": {
        "id": "6tgxwPEmp7-6",
        "colab_type": "code",
        "colab": {
          "base_uri": "https://localhost:8080/",
          "height": 295
        },
        "outputId": "6ee9438b-becd-4e26-8675-051522fe123b"
      },
      "source": [
        "x = [0,1,2,3,4,5,6,7,8,9,10,11,12,13,14,15,16,17,18,19,20]\n",
        "\n",
        "y1 = WIKIdata.cases\n",
        "y2 = outputs\n",
        "\n",
        "plt.plot(x, y1, label=\"Wikipedia Data\")\n",
        "plt.plot(x, y2, label=\"SIR Model Predictions\")\n",
        "\n",
        "plt.xlabel(\"Days from July 1, 2020\")\n",
        "plt.ylabel(\"Number of Cases (Millions)\")\n",
        "plt.title(\"SIR Model Predictions vs. Wikipedia Data\")\n",
        "\n",
        "plt.legend()\n",
        "plt.show()"
      ],
      "execution_count": null,
      "outputs": [
        {
          "output_type": "display_data",
          "data": {
            "image/png": "[encoded data removed]",
            "text/plain": [
              "<Figure size 432x288 with 1 Axes>"
            ]
          },
          "metadata": {
            "tags": [],
            "needs_background": "light"
          }
        }
      ]
    },
    {
      "cell_type": "markdown",
      "metadata": {
        "id": "ANIP5QYNGv5m",
        "colab_type": "text"
      },
      "source": [
        "#Comparison"
      ]
    },
    {
      "cell_type": "code",
      "metadata": {
        "id": "vfWXKuCgG1wf",
        "colab_type": "code",
        "colab": {
          "base_uri": "https://localhost:8080/",
          "height": 295
        },
        "outputId": "6a4c6ff5-a98a-48d0-de07-c922a5d3ba61"
      },
      "source": [
        "x = [0,1,2,3,4,5,6,7,8,9,10,11,12,13,14,15,16,17,18,19,20]\n",
        "\n",
        "y1 = NYTdata.cases\n",
        "y2 = WIKIdata.cases\n",
        "y3 = outputs\n",
        "\n",
        "plt.plot(x, y1, label=\"NYT Data\")\n",
        "plt.plot(x, y2, label=\"Wikipedia Data\")\n",
        "plt.plot(x, y3, label=\"SIR Model Predictions\")\n",
        "\n",
        "plt.xlabel(\"Days from July 1, 2020\")\n",
        "plt.ylabel(\"Number of Cases (Millions)\")\n",
        "plt.title(\"SIR Model Predictions vs. Official Data\")\n",
        "\n",
        "plt.legend()\n",
        "plt.savefig(\"SIRgraph.png\", dpi = 300)\n",
        "plt.show()"
      ],
      "execution_count": null,
      "outputs": [
        {
          "output_type": "display_data",
          "data": {
            "image/png": "[encoded data removed]",
            "text/plain": [
              "<Figure size 432x288 with 1 Axes>"
            ]
          },
          "metadata": {
            "tags": [],
            "needs_background": "light"
          }
        }
      ]
    }
  ]
}